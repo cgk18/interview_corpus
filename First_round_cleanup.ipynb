{
 "cells": [
  {
   "cell_type": "code",
   "execution_count": 1,
   "metadata": {},
   "outputs": [],
   "source": [
    "import os\n",
    "import pandas as pd\n",
    "import numpy as np\n"
   ]
  },
  {
   "cell_type": "code",
   "execution_count": 5,
   "metadata": {},
   "outputs": [],
   "source": [
    "folder_path = 'df_tagged'\n",
    "\n",
    "filtered_data = {}\n",
    "i = 1\n",
    "for file_name in os.listdir(folder_path):\n",
    "    if file_name.endswith('.csv'):\n",
    "        file_path = os.path.join(folder_path, file_name)\n",
    "        df = pd.read_csv(file_path)\n",
    "        participant_data = df[df['Speaker']== 'Participant']\n",
    "        interview_name = os.path.splitext(file_name)[0]\n",
    "        filtered_data[i] = participant_data\n",
    "        i = i+1\n"
   ]
  },
  {
   "cell_type": "code",
   "execution_count": 6,
   "metadata": {},
   "outputs": [],
   "source": [
    "output_folder = 'participants_only'\n",
    "\n",
    "for interview_id, participant_data in filtered_data.items():\n",
    "    if 'Dialogue' in participant_data.columns:\n",
    "        dialogue = participant_data['Dialogue']\n",
    "        dialogue_text = \"\\n\".join(dialogue.astype(str))\n",
    "        output_file_path = os.path.join(output_folder, f\"interview_{interview_id}_dialogue.txt\")\n",
    "        with open(output_file_path, 'w', encoding='utf-8') as f:\n",
    "            f.write(dialogue_text)"
   ]
  }
 ],
 "metadata": {
  "kernelspec": {
   "display_name": "interview",
   "language": "python",
   "name": "python3"
  },
  "language_info": {
   "codemirror_mode": {
    "name": "ipython",
    "version": 3
   },
   "file_extension": ".py",
   "mimetype": "text/x-python",
   "name": "python",
   "nbconvert_exporter": "python",
   "pygments_lexer": "ipython3",
   "version": "3.11.10"
  },
  "orig_nbformat": 4
 },
 "nbformat": 4,
 "nbformat_minor": 2
}
